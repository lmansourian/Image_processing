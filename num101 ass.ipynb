{
 "cells": [
  {
   "cell_type": "code",
   "execution_count": null,
   "id": "9d4a83b8-fd73-4f97-92e3-7d15865a5493",
   "metadata": {},
   "outputs": [],
   "source": [
    "import cv2\n",
    "import numpy as np\n",
    "# Create a function based on a CV2 Event (Left button click)\n",
    "\n",
    "# mouse callback function\n",
    "def draw_circle(event,x,y,flags,param):\n",
    "\n",
    "    global center,clicked\n",
    "\n",
    "    # get mouse click on down and track center\n",
    "    if event == cv2.EVENT_LBUTTONDOWN:\n",
    "\n",
    "        if clicked == True :\n",
    "            clicked = False\n",
    "            center = (0,0)\n",
    "\n",
    "        if clicked == False:\n",
    "            center = (x,y)\n",
    "            clicked = True \n",
    "           # Use boolean variable to track if the mouse has been released      \n",
    "# Haven't drawn anything yet!\n",
    "center = (0,0)\n",
    "clicked = False\n",
    "\n",
    "\n",
    "# Capture Video\n",
    "cap = cv2.VideoCapture(0) \n",
    "\n",
    "# Create a named window for connections\n",
    "cv2.namedWindow('Test')\n",
    "\n",
    "# Bind draw_rectangle function to mouse cliks\n",
    "cv2.setMouseCallback('Test', draw_circle) \n",
    "\n",
    "\n",
    "\n",
    "while True:\n",
    "    # Capture frame-by-frame\n",
    "    ret, frame = cap.read()\n",
    "\n",
    "    # Use if statement to see if clicked is true\n",
    "    if clicked:\n",
    "        # Draw circle on frame\n",
    "        cv2.circle(frame, center=center, radius=50, color=(255,0,0), thickness=5)\n",
    "\n",
    "        \n",
    "    # Display the resulting frame\n",
    "    cv2.imshow('Test', frame)\n",
    "\n",
    "    # This command let's us quit with the \"q\" button on a keyboard.\n",
    "    # Simply pressing X on the window won't work!\n",
    "    if cv2.waitKey(1) & 0xFF == ord('q'):\n",
    "        break\n",
    "\n",
    "\n",
    "# When everything is done, release the capture\n",
    "cap.release()\n",
    "cv2.destroyAllWindows()"
   ]
  },
  {
   "cell_type": "code",
   "execution_count": null,
   "id": "f8628f31-e870-4259-aafc-10e3bdd37fd8",
   "metadata": {},
   "outputs": [],
   "source": []
  },
  {
   "cell_type": "code",
   "execution_count": null,
   "id": "7ea354af-788d-453f-b08f-05f5339fa0a4",
   "metadata": {},
   "outputs": [],
   "source": []
  }
 ],
 "metadata": {
  "kernelspec": {
   "display_name": "Python 3 (ipykernel)",
   "language": "python",
   "name": "python3"
  },
  "language_info": {
   "codemirror_mode": {
    "name": "ipython",
    "version": 3
   },
   "file_extension": ".py",
   "mimetype": "text/x-python",
   "name": "python",
   "nbconvert_exporter": "python",
   "pygments_lexer": "ipython3",
   "version": "3.11.7"
  }
 },
 "nbformat": 4,
 "nbformat_minor": 5
}
